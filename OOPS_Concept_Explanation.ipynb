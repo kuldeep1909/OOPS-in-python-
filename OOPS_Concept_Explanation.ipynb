{
  "nbformat": 4,
  "nbformat_minor": 0,
  "metadata": {
    "colab": {
      "provenance": []
    },
    "kernelspec": {
      "name": "python3",
      "display_name": "Python 3"
    },
    "language_info": {
      "name": "python"
    }
  },
  "cells": [
    {
      "cell_type": "markdown",
      "source": [
        "# Object-Oriented Programming (OOP) in Python\n",
        "\n",
        "This notebook covers the fundamental concepts of Object-Oriented Programming (OOP) in Python.\n",
        "\n",
        "---\n",
        "\n",
        "## 1. **Introduction to OOP Concepts**\n",
        "\n",
        "Object-Oriented Programming (OOP) is a programming paradigm based on the concept of **objects** and **classes**. The four main principles of OOP are:\n",
        "\n",
        "- **Encapsulation**: Bundling data (attributes) and methods (functions) that operate on the data into a single unit, i.e., a class.\n",
        "- **Abstraction**: Hiding the complex implementation details and exposing only the necessary parts.\n",
        "- **Inheritance**: Deriving new classes from existing classes to reuse, extend, or modify their behavior.\n",
        "- **Polymorphism**: Allowing different classes to be treated as instances of the same class.\n",
        "\n",
        "---\n",
        "\n",
        "## 2. **Classes and Objects in Python**\n",
        "\n",
        "### **Class**:\n",
        "A class is a blueprint for creating objects. An object is an instance of a class.  \n",
        "\n",
        "### **Object**:\n",
        "An object is a specific instance of a class that contains attributes and methods.\n",
        "\n",
        "#### Example: Class and Object\n",
        "\n",
        "```python\n",
        "\n"
      ],
      "metadata": {
        "id": "rgYJZl3-fy8n"
      }
    },
    {
      "cell_type": "code",
      "execution_count": 2,
      "metadata": {
        "colab": {
          "base_uri": "https://localhost:8080/"
        },
        "id": "BpzyxnSvfxpC",
        "outputId": "9ea495a3-ddd9-4416-f1aa-1e6fd68bf239"
      },
      "outputs": [
        {
          "output_type": "stream",
          "name": "stdout",
          "text": [
            "Name: Kuldeep Malviya\n",
            "Age: 21\n"
          ]
        }
      ],
      "source": [
        "# Define a class called Person\n",
        "class Person:\n",
        "    # Constructor (initializer)\n",
        "    def __init__(self, name, age):\n",
        "        self.name = \"Kuldeep Malviya\"  # Instance attribute\n",
        "        self.age = 21    # Instance attribute\n",
        "\n",
        "    # Method to display person's information\n",
        "    def display_info(self):\n",
        "        print(f\"Name: {self.name}\")\n",
        "        print(f\"Age: {self.age}\")\n",
        "\n",
        "# Create an object of the class Person\n",
        "person1 = Person(\"John Doe\", 30)\n",
        "\n",
        "# Access object's method\n",
        "person1.display_info()"
      ]
    },
    {
      "cell_type": "markdown",
      "source": [
        "## 3. **Encapsulation**\n",
        "\n",
        "Encapsulation is one of the fundamental principles of Object-Oriented Programming (OOP). It refers to the concept of bundling the data (attributes) and methods (functions) that operate on the data into a single unit called a **class**. In addition, encapsulation helps to restrict direct access to some of an object's components, which can prevent accidental modification of data.\n",
        "\n",
        "### Key Points:\n",
        "- **Private Attributes**: Attributes of a class can be made private by prefixing them with double underscores (`__`). Private attributes cannot be accessed directly from outside the class.\n",
        "- **Public Methods**: Public methods are used to access or modify the private attributes. This provides controlled access to the internal state of an object.\n",
        "- **Benefits of Encapsulation**:\n",
        "  - Protects an object's internal state from unwanted modifications.\n",
        "  - Allows you to modify the internal implementation without affecting the code outside the class.\n",
        "  - Helps in maintaining the integrity of the data by controlling access to it.\n",
        "\n",
        "---"
      ],
      "metadata": {
        "id": "Cv7QeVWIgdJ2"
      }
    },
    {
      "cell_type": "code",
      "source": [
        "class Account:\n",
        "    def __init__(self, owner, balance):\n",
        "        self.owner = owner\n",
        "        self.__balance = balance  # Private attribute\n",
        "\n",
        "    def deposit(self, amount):\n",
        "        if amount > 0:\n",
        "            self.__balance += amount\n",
        "            print(f\"Deposited {amount} units\")\n",
        "        else:\n",
        "            print(\"Deposit amount must be positive\")\n",
        "\n",
        "    def withdraw(self, amount):\n",
        "        if 0 < amount <= self.__balance:\n",
        "            self.__balance -= amount\n",
        "            print(f\"Withdrew {amount} units\")\n",
        "        else:\n",
        "            print(\"Insufficient funds or invalid amount\")\n",
        "\n",
        "    def get_balance(self):\n",
        "        return self.__balance\n",
        "\n",
        "# Create an object of Account class\n",
        "account1 = Account(\"Alice\", 1000)\n",
        "\n",
        "# Access methods to deposit and withdraw\n",
        "account1.deposit(500)\n",
        "account1.withdraw(200)\n",
        "\n",
        "# Accessing the balance through the getter method\n",
        "print(f\"Balance: {account1.get_balance()}\")\n"
      ],
      "metadata": {
        "colab": {
          "base_uri": "https://localhost:8080/"
        },
        "id": "boEbONxDf6gT",
        "outputId": "bd98d73d-9983-4bba-c932-06efcf978bda"
      },
      "execution_count": 4,
      "outputs": [
        {
          "output_type": "stream",
          "name": "stdout",
          "text": [
            "Deposited 500 units\n",
            "Withdrew 200 units\n",
            "Balance: 1300\n"
          ]
        }
      ]
    },
    {
      "cell_type": "markdown",
      "source": [
        "## 4. **Abstraction**\n",
        "\n",
        "Abstraction is the concept of hiding the complex reality and showing only the necessary parts of an object. It helps in simplifying complex systems by focusing on what is necessary and hiding unnecessary implementation details.\n",
        "\n",
        "In Python, abstraction can be achieved using **abstract classes** and **abstract methods**. An abstract class cannot be instantiated directly, and it must be subclassed. An abstract method is a method that is declared in the abstract class but lacks implementation. It must be implemented by any subclass of the abstract class.\n",
        "\n",
        "### Key Points:\n",
        "- **Abstract Classes**: Cannot be instantiated directly.\n",
        "- **Abstract Methods**: Must be implemented by the subclass.\n",
        "- **Abstraction in Python**: Achieved using the `abc` module.\n",
        "\n",
        "---"
      ],
      "metadata": {
        "id": "-liJP2OfhupQ"
      }
    },
    {
      "cell_type": "code",
      "source": [
        "### Example: Abstraction\n",
        "\n",
        "\n",
        "from abc import ABC, abstractmethod\n",
        "\n",
        "# Abstract class\n",
        "class Animal(ABC):\n",
        "    @abstractmethod\n",
        "    def sound(self):\n",
        "        pass\n",
        "\n",
        "# Derived class\n",
        "class Dog(Animal):\n",
        "    def sound(self):\n",
        "        print(\"Bark!\")\n",
        "\n",
        "# Derived class\n",
        "class Cat(Animal):\n",
        "    def sound(self):\n",
        "        print(\"Meow!\")\n",
        "\n",
        "# Creating objects of Dog and Cat\n",
        "dog = Dog()\n",
        "cat = Cat()\n",
        "\n",
        "dog.sound()  # Outputs: Bark!\n",
        "cat.sound()  # Outputs: Meow!"
      ],
      "metadata": {
        "colab": {
          "base_uri": "https://localhost:8080/"
        },
        "id": "h0-Is02zhu-p",
        "outputId": "fd2d060f-b0bd-42e2-cfd0-428e56833db8"
      },
      "execution_count": 6,
      "outputs": [
        {
          "output_type": "stream",
          "name": "stdout",
          "text": [
            "Bark!\n",
            "Meow!\n"
          ]
        }
      ]
    },
    {
      "cell_type": "markdown",
      "source": [
        "## 5. **Inheritance**\n",
        "\n",
        "Inheritance allows a new class (child class) to inherit the properties and methods of an existing class (parent class). This promotes **code reuse** and the creation of a **hierarchy of classes**.\n",
        "\n",
        "A child class can override or extend the functionality of the parent class.\n",
        "\n",
        "### Key Points:\n",
        "- **Parent Class**: The class whose properties and methods are inherited by another class.\n",
        "- **Child Class**: The class that inherits the properties and methods from the parent class.\n",
        "- **`super()` function**: Used to call methods from the parent class, often to extend or override its behavior.\n",
        "\n",
        "---"
      ],
      "metadata": {
        "id": "y5flQNK9h3k3"
      }
    },
    {
      "cell_type": "code",
      "source": [
        "# Parent class\n",
        "class Vehicle:\n",
        "    def __init__(self, brand, model):\n",
        "        self.brand = brand\n",
        "        self.model = model\n",
        "\n",
        "    def display_info(self):\n",
        "        print(f\"Brand: {self.brand}\")\n",
        "        print(f\"Model: {self.model}\")\n",
        "\n",
        "# Child class inheriting from Vehicle\n",
        "class Car(Vehicle):\n",
        "    def __init__(self, brand, model, doors):\n",
        "        super().__init__(brand, model)  # Call parent class constructor\n",
        "        self.doors = doors\n",
        "\n",
        "    def display_info(self):\n",
        "        super().display_info()  # Call parent class method\n",
        "        print(f\"Doors: {self.doors}\")\n",
        "\n",
        "# Creating an object of Car class\n",
        "car1 = Car(\"Toyota\", \"Camry\", 4)\n",
        "car1.display_info()\n"
      ],
      "metadata": {
        "colab": {
          "base_uri": "https://localhost:8080/"
        },
        "id": "j_6ZfGH0h377",
        "outputId": "005dbacf-604c-4991-f632-4d77b85667a1"
      },
      "execution_count": 7,
      "outputs": [
        {
          "output_type": "stream",
          "name": "stdout",
          "text": [
            "Brand: Toyota\n",
            "Model: Camry\n",
            "Doors: 4\n"
          ]
        }
      ]
    },
    {
      "cell_type": "markdown",
      "source": [
        "## 6. **Polymorphism**\n",
        "\n",
        "Polymorphism allows objects of different classes to be treated as instances of a common superclass. It enables the same method to behave differently based on the object that calls it.\n",
        "\n",
        "### Key Points:\n",
        "- **Method Overriding**: The child class provides its own implementation of a method that is already defined in the parent class.\n",
        "- **Polymorphism**: The ability of different objects to respond to the same method in different ways.\n",
        "\n",
        "---"
      ],
      "metadata": {
        "id": "2XPvUxA9iAXf"
      }
    },
    {
      "cell_type": "code",
      "source": [
        "class Animal:\n",
        "    def speak(self):\n",
        "        print(\"Animal speaks\")\n",
        "\n",
        "class Dog(Animal):\n",
        "    def speak(self):\n",
        "        print(\"Bark\")\n",
        "\n",
        "class Cat(Animal):\n",
        "    def speak(self):\n",
        "        print(\"Meow\")\n",
        "\n",
        "# Creating objects of Dog and Cat\n",
        "animals = [Dog(), Cat()]\n",
        "\n",
        "# Polymorphism: Same method name but different behavior\n",
        "for animal in animals:\n",
        "    animal.speak()\n"
      ],
      "metadata": {
        "colab": {
          "base_uri": "https://localhost:8080/"
        },
        "id": "bSNwthQviAtV",
        "outputId": "8759ced3-762e-4c5f-ea4c-78ef043b95d5"
      },
      "execution_count": 8,
      "outputs": [
        {
          "output_type": "stream",
          "name": "stdout",
          "text": [
            "Bark\n",
            "Meow\n"
          ]
        }
      ]
    }
  ]
}